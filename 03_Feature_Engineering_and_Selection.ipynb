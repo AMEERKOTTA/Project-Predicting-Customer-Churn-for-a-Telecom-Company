{
 "cells": [
  {
   "cell_type": "markdown",
   "id": "f59c6564-8174-4df1-ba5c-6f93e64a655c",
   "metadata": {},
   "source": [
    "# Feature Selection"
   ]
  },
  {
   "cell_type": "code",
   "execution_count": 35,
   "id": "e0370c1c-017f-4bfe-8d7c-0ceccde622b5",
   "metadata": {},
   "outputs": [],
   "source": [
    "## import required libraries here\n",
    "import pandas as pd\n",
    "import numpy as np\n",
    "from sklearn.ensemble import RandomForestClassifier\n",
    "from sklearn.feature_selection import RFE\n",
    "from sklearn.preprocessing import StandardScaler\n",
    "from sklearn.decomposition import PCA"
   ]
  },
  {
   "cell_type": "code",
   "execution_count": 36,
   "id": "e4effc92-06a8-4e6a-8a03-113a727b2ef4",
   "metadata": {},
   "outputs": [
    {
     "name": "stdout",
     "output_type": "stream",
     "text": [
      "<class 'pandas.core.frame.DataFrame'>\n",
      "RangeIndex: 7043 entries, 0 to 7042\n",
      "Data columns (total 45 columns):\n",
      " #   Column                                   Non-Null Count  Dtype  \n",
      "---  ------                                   --------------  -----  \n",
      " 0   customerID                               7043 non-null   object \n",
      " 1   SeniorCitizen                            7043 non-null   int64  \n",
      " 2   tenure                                   7043 non-null   float64\n",
      " 3   Contract                                 7043 non-null   int64  \n",
      " 4   MonthlyCharges                           7043 non-null   float64\n",
      " 5   TotalCharges                             7043 non-null   float64\n",
      " 6   Churn                                    7043 non-null   int64  \n",
      " 7   gender_Female                            7043 non-null   float64\n",
      " 8   gender_Male                              7043 non-null   float64\n",
      " 9   Partner_No                               7043 non-null   float64\n",
      " 10  Partner_Yes                              7043 non-null   float64\n",
      " 11  Dependents_No                            7043 non-null   float64\n",
      " 12  Dependents_Yes                           7043 non-null   float64\n",
      " 13  PhoneService_No                          7043 non-null   float64\n",
      " 14  PhoneService_Yes                         7043 non-null   float64\n",
      " 15  MultipleLines_No                         7043 non-null   float64\n",
      " 16  MultipleLines_No phone service           7043 non-null   float64\n",
      " 17  MultipleLines_Yes                        7043 non-null   float64\n",
      " 18  InternetService_DSL                      7043 non-null   float64\n",
      " 19  InternetService_Fiber optic              7043 non-null   float64\n",
      " 20  InternetService_No                       7043 non-null   float64\n",
      " 21  OnlineSecurity_No                        7043 non-null   float64\n",
      " 22  OnlineSecurity_No internet service       7043 non-null   float64\n",
      " 23  OnlineSecurity_Yes                       7043 non-null   float64\n",
      " 24  OnlineBackup_No                          7043 non-null   float64\n",
      " 25  OnlineBackup_No internet service         7043 non-null   float64\n",
      " 26  OnlineBackup_Yes                         7043 non-null   float64\n",
      " 27  DeviceProtection_No                      7043 non-null   float64\n",
      " 28  DeviceProtection_No internet service     7043 non-null   float64\n",
      " 29  DeviceProtection_Yes                     7043 non-null   float64\n",
      " 30  TechSupport_No                           7043 non-null   float64\n",
      " 31  TechSupport_No internet service          7043 non-null   float64\n",
      " 32  TechSupport_Yes                          7043 non-null   float64\n",
      " 33  StreamingTV_No                           7043 non-null   float64\n",
      " 34  StreamingTV_No internet service          7043 non-null   float64\n",
      " 35  StreamingTV_Yes                          7043 non-null   float64\n",
      " 36  StreamingMovies_No                       7043 non-null   float64\n",
      " 37  StreamingMovies_No internet service      7043 non-null   float64\n",
      " 38  StreamingMovies_Yes                      7043 non-null   float64\n",
      " 39  PaperlessBilling_No                      7043 non-null   float64\n",
      " 40  PaperlessBilling_Yes                     7043 non-null   float64\n",
      " 41  PaymentMethod_Bank transfer (automatic)  7043 non-null   float64\n",
      " 42  PaymentMethod_Credit card (automatic)    7043 non-null   float64\n",
      " 43  PaymentMethod_Electronic check           7043 non-null   float64\n",
      " 44  PaymentMethod_Mailed check               7043 non-null   float64\n",
      "dtypes: float64(41), int64(3), object(1)\n",
      "memory usage: 2.4+ MB\n"
     ]
    }
   ],
   "source": [
    "## load the dataset\n",
    "data = pd.read_csv('processed_customer_data.csv')\n",
    "data.info()"
   ]
  },
  {
   "cell_type": "markdown",
   "id": "5ed5fc83-50af-4a28-9329-c2f8427ac700",
   "metadata": {},
   "source": [
    "## Methods to do Feature Selection\n",
    "\n",
    "There are different methods to Select the Features and avoid the least useful features.\n",
    "\n",
    "1. Remove Irrelevant or Redundant Features manually\n",
    "2. Use Feature Importance from Tree-based Models\n",
    "    + Train a Random Forest Classifier\n",
    "    + Recursive Feature Elimination (RFE)\n",
    "3. Consider Dimensionality Reduction with PCA"
   ]
  },
  {
   "cell_type": "markdown",
   "id": "38a3a366-edfa-4194-acae-a060ffcad804",
   "metadata": {},
   "source": [
    "### Use Feature Importance from Tree-based Models\n",
    "\n",
    "Tree-based models like Random Forest or Gradient Boosting Machines (GBM) can help to determine the importance of each feature in predicting customer churn\n",
    "\n",
    "**1. Train a Random Forest Classifier**\n",
    "\n",
    "+ Use a Random Forest model to calculate feature importance scores. Features with higher importance scores contribute more to the model’s prediction power.\n",
    "\n",
    "+ This method gives a ranking of features based on their importance scores. Choose the top N features that have the highest importance scores.\n",
    "\n",
    "+ Since the scores are almost similar and weak, consider to take everything.\n",
    "\n",
    "**Results**\n",
    "\n",
    "**Top Important Features:**\n",
    "\n",
    "+ `TotalCharges (0.169656)`, `tenure (0.144576)`, and `MonthlyCharges (0.142438)`\n",
    "+ These are the top three most important features in predicting customer churn.\n",
    "+ This suggests that the total amount a customer has paid (TotalCharges), the duration of their tenure (tenure), and their monthly charges (MonthlyCharges) are significant indicators of whether a customer will churn or not.\n",
    "+ Customers who have paid more or stayed longer, or those with varying monthly charges, may show different patterns related to churn.\n",
    "\n",
    "**Moderately Important Features:**\n",
    "\n",
    "+ `Contract (0.063575)`: The type of contract a customer has also plays a notable role in predicting churn.\n",
    "+ This makes sense because customers with longer-term contracts may have lower churn rates compared to those with month-to-month contracts.\n",
    "+ `OnlineSecurity_No (0.032517)`, `PaymentMethod_Electronic check (0.031070)`, `InternetService_Fiber optic (0.026065)`, `TechSupport_No (0.022948)`\n",
    "+  These features also contribute to the model's predictive power.\n",
    "+  For example, customers who do not have online security or tech support, or who use electronic checks, may be more prone to churn.\n",
    "\n",
    "**Less Important Features**\n",
    "\n",
    "+ `SeniorCitizen`, `OnlineBackup_No`, `gender_Female`, `gender_Male`, `DeviceProtection_No`, etc., have lower importance scores (ranging from around 0.02 to 0.01).\n",
    "+ While these features still provide some predictive power, their impact is relatively smaller compared to the top features.\n",
    "+ Demographic features like gender and SeniorCitizen have less influence, which indicates that other factors (like charges, contract type, and services used) are more critical in determining churn.\n",
    "\n",
    "**Least Important Features:**\n",
    "\n",
    "+ `InternetService_No`, `StreamingTV_No internet service`, `TechSupport_No internet service`, and similar features (importance scores below 0.004)\n",
    "+ These features have very low importance scores.\n",
    "+ Many of these features indicate whether a service is not available (e.g., \"No internet service\").\n",
    "+ Their low importance suggests that they do not significantly help the model differentiate between customers who churn and those who do not.\n",
    "\n",
    "**2. Recursive Feature Elimination (RFE)**\n",
    "\n",
    "+ Recursive Feature Elimination is another method that recursively removes the least important features to improve model performance. It uses a base estimator (like a Random Forest) to rank the features by importance.\n",
    "\n",
    "+ This will provide a ranking of features, where a ranking of 1 indicates the most important features.\n",
    "\n",
    "**Results**\n",
    "\n",
    "**Selected Features (Ranking = 1):**\n",
    "\n",
    "+ The RFE process has identified 35 features (with a ranking of 1) that are considered the most important for predicting customer churn.\n",
    "+ These features will likely contribute the most to the model's predictive power.\n",
    "+ Demographic and customer-related features: SeniorCitizen, tenure, gender_Female, gender_Male, Partner_No, Partner_Yes, Dependents_No, Dependents_Yes.\n",
    "+ Service-related features: OnlineBackup_No, OnlineBackup_Yes, DeviceProtection_No, DeviceProtection_Yes, TechSupport_No, TechSupport_Yes, StreamingTV_No, StreamingTV_Yes, StreamingMovies_No, StreamingMovies_Yes, InternetService_Fiber optic, InternetService_DSL, etc.\n",
    "+ Billing and payment features: PaperlessBilling_No, PaperlessBilling_Yes, PaymentMethod_Bank transfer (automatic), PaymentMethod_Credit card (automatic), PaymentMethod_Electronic check, PaymentMethod_Mailed check, MonthlyCharges, TotalCharges.\n",
    "+ Churn-related features: Contract and features related to different services (like OnlineSecurity, TechSupport, etc.).\n",
    "\n",
    "**Features Excluded by RFE (Ranking > 1):**\n",
    "\n",
    "+ TechSupport_No internet service (Ranking = 2), PhoneService_No (Ranking = 3), PhoneService_Yes (Ranking = 4), OnlineSecurity_No internet service (Ranking = 5), InternetService_No (Ranking = 6), DeviceProtection_No internet service (Ranking = 7), OnlineBackup_No internet service (Ranking = 8), StreamingMovies_No internet service (Ranking = 9)\n",
    "+ These features have been ranked lower (not selected) because they are less significant for predicting churn compared to the other features.\n",
    "+ Many of these represent \"No internet service\" or similar, which are likely redundant or less informative because they don't directly contribute new information about the customer's behavior or attributes beyond what is already captured by other features."
   ]
  },
  {
   "cell_type": "code",
   "execution_count": 37,
   "id": "4ba3d572-d0c0-4480-8f37-0c13d3270aff",
   "metadata": {},
   "outputs": [
    {
     "name": "stdout",
     "output_type": "stream",
     "text": [
      "                                         importance\n",
      "TotalCharges                               0.169007\n",
      "tenure                                     0.145959\n",
      "MonthlyCharges                             0.142845\n",
      "Contract                                   0.064140\n",
      "OnlineSecurity_No                          0.032541\n",
      "PaymentMethod_Electronic check             0.031039\n",
      "InternetService_Fiber optic                0.024319\n",
      "TechSupport_No                             0.022592\n",
      "SeniorCitizen                              0.019939\n",
      "OnlineBackup_No                            0.019909\n",
      "gender_Female                              0.017638\n",
      "gender_Male                                0.017401\n",
      "DeviceProtection_No                        0.016860\n",
      "PaperlessBilling_Yes                       0.015118\n",
      "PaperlessBilling_No                        0.014611\n",
      "Partner_No                                 0.014557\n",
      "Partner_Yes                                0.014058\n",
      "OnlineSecurity_Yes                         0.012972\n",
      "MultipleLines_Yes                          0.012826\n",
      "PaymentMethod_Credit card (automatic)      0.012446\n",
      "MultipleLines_No                           0.012402\n",
      "Dependents_No                              0.012304\n",
      "InternetService_DSL                        0.012152\n",
      "StreamingMovies_Yes                        0.011836\n",
      "Dependents_Yes                             0.011768\n",
      "OnlineBackup_Yes                           0.011662\n",
      "PaymentMethod_Bank transfer (automatic)    0.011470\n",
      "TechSupport_Yes                            0.011411\n",
      "StreamingMovies_No                         0.011283\n",
      "StreamingTV_No                             0.011199\n",
      "DeviceProtection_Yes                       0.011132\n",
      "StreamingTV_Yes                            0.011034\n",
      "PaymentMethod_Mailed check                 0.010761\n",
      "InternetService_No                         0.003804\n",
      "TechSupport_No internet service            0.003739\n",
      "StreamingTV_No internet service            0.003470\n",
      "DeviceProtection_No internet service       0.003134\n",
      "PhoneService_Yes                           0.002807\n",
      "PhoneService_No                            0.002769\n",
      "MultipleLines_No phone service             0.002617\n",
      "OnlineBackup_No internet service           0.002518\n",
      "OnlineSecurity_No internet service         0.002451\n",
      "StreamingMovies_No internet service        0.001500\n"
     ]
    }
   ],
   "source": [
    "## train a random forest classifier\n",
    "\n",
    "X = data.drop(['Churn', 'customerID'], axis=1)  # Drop target and irrelevant features, customerID is irrelevant\n",
    "y = data['Churn']\n",
    "\n",
    "# Initialize the model\n",
    "rf_model = RandomForestClassifier(random_state=42)\n",
    "rf_model.fit(X, y)\n",
    "\n",
    "# Get feature importances\n",
    "feature_importances = pd.DataFrame(rf_model.feature_importances_,\n",
    "                                   index=X.columns,\n",
    "                                   columns=['importance']).sort_values('importance', ascending=False)\n",
    "\n",
    "# Display feature importances\n",
    "print(feature_importances)"
   ]
  },
  {
   "cell_type": "code",
   "execution_count": 38,
   "id": "c84f93a1-2d3d-4825-9328-31b829c91771",
   "metadata": {},
   "outputs": [
    {
     "name": "stdout",
     "output_type": "stream",
     "text": [
      "                                    Feature  Ranking\n",
      "0                             SeniorCitizen        1\n",
      "22                          OnlineBackup_No        1\n",
      "24                         OnlineBackup_Yes        1\n",
      "25                      DeviceProtection_No        1\n",
      "26     DeviceProtection_No internet service        1\n",
      "27                     DeviceProtection_Yes        1\n",
      "28                           TechSupport_No        1\n",
      "30                          TechSupport_Yes        1\n",
      "31                           StreamingTV_No        1\n",
      "33                          StreamingTV_Yes        1\n",
      "34                       StreamingMovies_No        1\n",
      "36                      StreamingMovies_Yes        1\n",
      "37                      PaperlessBilling_No        1\n",
      "38                     PaperlessBilling_Yes        1\n",
      "39  PaymentMethod_Bank transfer (automatic)        1\n",
      "40    PaymentMethod_Credit card (automatic)        1\n",
      "41           PaymentMethod_Electronic check        1\n",
      "19                        OnlineSecurity_No        1\n",
      "21                       OnlineSecurity_Yes        1\n",
      "17              InternetService_Fiber optic        1\n",
      "1                                    tenure        1\n",
      "2                                  Contract        1\n",
      "3                            MonthlyCharges        1\n",
      "4                              TotalCharges        1\n",
      "5                             gender_Female        1\n",
      "6                               gender_Male        1\n",
      "7                                Partner_No        1\n",
      "8                               Partner_Yes        1\n",
      "9                             Dependents_No        1\n",
      "11                          PhoneService_No        1\n",
      "13                         MultipleLines_No        1\n",
      "15                        MultipleLines_Yes        1\n",
      "16                      InternetService_DSL        1\n",
      "10                           Dependents_Yes        1\n",
      "42               PaymentMethod_Mailed check        1\n",
      "29          TechSupport_No internet service        2\n",
      "14           MultipleLines_No phone service        3\n",
      "18                       InternetService_No        4\n",
      "20       OnlineSecurity_No internet service        5\n",
      "23         OnlineBackup_No internet service        6\n",
      "32          StreamingTV_No internet service        7\n",
      "12                         PhoneService_Yes        8\n",
      "35      StreamingMovies_No internet service        9\n"
     ]
    }
   ],
   "source": [
    "## Recursive Feature Elimination (RFE) method\n",
    "\n",
    "# Initialize the model\n",
    "rf_model = RandomForestClassifier(random_state=42)\n",
    "\n",
    "# Initialize RFE\n",
    "rfe = RFE(estimator=rf_model, n_features_to_select=35)  # You can choose the number of features to keep\n",
    "rfe.fit(X, y)\n",
    "\n",
    "# Get the ranking of the features\n",
    "feature_ranking = pd.DataFrame({'Feature': X.columns, 'Ranking': rfe.ranking_})\n",
    "print(feature_ranking.sort_values('Ranking'))"
   ]
  },
  {
   "cell_type": "markdown",
   "id": "4d246e14-8485-4d80-90e8-da8a2d875f4f",
   "metadata": {},
   "source": [
    "### Dimensionality Reduction with PCA\n",
    "\n",
    "+ If the dataset has a lot of correlated features, use Principal Component Analysis (PCA) to reduce dimensionality while retaining most of the variance in the data.\n",
    "\n",
    "+ PCA transforms the original features into a set of new uncorrelated components.\n",
    "\n",
    "**Interpretation of the PCA Results**\n",
    "+ The explained variance ratio tells you how much of the total variance in your data is captured by each principal component. Here’s a breakdown of your results:\n",
    "\n",
    "+ **First Principal Component (PC1)** : Explains about 26.31% of the total variance in your data. This means that the first principal component captures the largest amount of variability among all components.\n",
    "\n",
    "+ **Second Principal Component (PC2)** : Explains about 13.29% of the total variance. Together, the first two components explain roughly 39.6% of the variance.\n",
    "\n",
    "+ **Subsequent Components** : The third to the tenth components each explain smaller portions of the variance, ranging from about 9.8% (PC3) to 2.98% (PC10).\n",
    "\n",
    "**Inference**\n",
    "\n",
    "+ The first 10 principal components together explain a significant portion of the variance in your data.\n",
    "+ However, if you need to decide how many components to keep, it might be helpful to look for an \"elbow\" in the cumulative variance plot.\n",
    "+ Typically, you would select the number of components that account for around 80-95% of the total variance."
   ]
  },
  {
   "cell_type": "code",
   "execution_count": 39,
   "id": "0e4a89d0-6b69-4824-804c-1ccac3cce82b",
   "metadata": {},
   "outputs": [
    {
     "name": "stdout",
     "output_type": "stream",
     "text": [
      "[0.26306807 0.13293635 0.09797301 0.05904245 0.05187059 0.04653589\n",
      " 0.03861925 0.03615863 0.03079465 0.02978442]\n"
     ]
    }
   ],
   "source": [
    "# Standardize features\n",
    "scaler = StandardScaler()\n",
    "X_scaled = scaler.fit_transform(X)\n",
    "\n",
    "# Apply PCA\n",
    "pca = PCA(n_components=10)  # Choose the number of components to keep\n",
    "X_pca = pca.fit_transform(X_scaled)\n",
    "\n",
    "# Explained variance ratio\n",
    "print(pca.explained_variance_ratio_)"
   ]
  },
  {
   "cell_type": "code",
   "execution_count": 40,
   "id": "57a8198d-3aca-40b0-a073-fe9c52fe832a",
   "metadata": {},
   "outputs": [
    {
     "name": "stdout",
     "output_type": "stream",
     "text": [
      "Cumulative Explained Variance: [0.26306807 0.39600442 0.49397743 0.55301987 0.60489047 0.65142635\n",
      " 0.69004561 0.72620424 0.75699889 0.78678332]\n"
     ]
    }
   ],
   "source": [
    "# Calculate cumulative explained variance\n",
    "cumulative_variance = pca.explained_variance_ratio_.cumsum()\n",
    "print(\"Cumulative Explained Variance:\", cumulative_variance)"
   ]
  },
  {
   "cell_type": "code",
   "execution_count": 41,
   "id": "3715c5cd-1166-49b5-8221-ba4f401e62f3",
   "metadata": {},
   "outputs": [
    {
     "data": {
      "image/png": "[encoded data removed]",
      "text/plain": [
       "<Figure size 640x480 with 1 Axes>"
      ]
     },
     "metadata": {},
     "output_type": "display_data"
    }
   ],
   "source": [
    "import matplotlib.pyplot as plt\n",
    "\n",
    "plt.plot(range(1, len(cumulative_variance) + 1), cumulative_variance, marker='o')\n",
    "plt.xlabel('Number of Components')\n",
    "plt.ylabel('Cumulative Explained Variance')\n",
    "plt.title('PCA Explained Variance')\n",
    "plt.grid(True)\n",
    "plt.show()"
   ]
  },
  {
   "cell_type": "code",
   "execution_count": null,
   "id": "fad40692-dd9a-402c-b948-111f89b33e35",
   "metadata": {},
   "outputs": [],
   "source": []
  }
 ],
 "metadata": {
  "kernelspec": {
   "display_name": "Python 3 (ipykernel)",
   "language": "python",
   "name": "python3"
  },
  "language_info": {
   "codemirror_mode": {
    "name": "ipython",
    "version": 3
   },
   "file_extension": ".py",
   "mimetype": "text/x-python",
   "name": "python",
   "nbconvert_exporter": "python",
   "pygments_lexer": "ipython3",
   "version": "3.12.4"
  }
 },
 "nbformat": 4,
 "nbformat_minor": 5
}
